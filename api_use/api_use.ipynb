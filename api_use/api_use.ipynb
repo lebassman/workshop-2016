{
 "cells": [
  {
   "cell_type": "markdown",
   "metadata": {},
   "source": [
    "# Using the Materials API\n",
    "\n",
    "We will cover:\n",
    "\n",
    "* getting set up with / acclimated to the Jupyter environment\n",
    "* getting an API key\n",
    "* `pymatgen.MPRester` built-ins\n",
    "* `MPRester.query`\n",
    "* the [mapidoc](https://github.com/materialsproject/mapidoc) repository\n",
    "* accessing the API more directly, with plain HTTP requests (via the Python `requests` library)\n",
    "* Example API usage to get chemical system entries for\n",
    "  * generating phase diagrams\n",
    "  * calculating reaction energies"
   ]
  },
  {
   "cell_type": "markdown",
   "metadata": {},
   "source": [
    "## Jupyter(hub)\n",
    "* ensure github accounts registered for login\n",
    "* go over enviroment (python kernels, terminals, folders)\n",
    "* go over notebook interface (incl. keyboard shortcuts)"
   ]
  },
  {
   "cell_type": "markdown",
   "metadata": {},
   "source": [
    "## Getting an API key\n",
    "\n",
    "Go to https://materialsproject.org/dashboard. If you see 'None' under the 'Generate API key' button, click the button. Highlight and copy the string under the button -- that is your API key. Paste it in as the value inside the quotation marks (\"\") below."
   ]
  },
  {
   "cell_type": "code",
   "execution_count": null,
   "metadata": {
    "collapsed": false
   },
   "outputs": [],
   "source": [
    "import os\n",
    "os.environ['MAPI_KEY'] = sm5RbuEp83T9Wo7P"
   ]
  },
  {
   "cell_type": "markdown",
   "metadata": {},
   "source": [
    "## MPRester\n",
    "* Open pymatgen.MPRester web documentation\n",
    "* get feet wet with calling a few of the \"specialty\" methods\n",
    "* introduce the powerful `query` method"
   ]
  },
  {
   "cell_type": "markdown",
   "metadata": {},
   "source": [
    "## `mapidoc` repo\n",
    "* Go over first part of README\n",
    "* examples of MongoDB syntax\n",
    "* search for properties, more MongoDB syntax\n",
    "* Go over remainder of README -- examples of not using pymatgen for API queries"
   ]
  },
  {
   "cell_type": "markdown",
   "metadata": {},
   "source": [
    "## generating phase diagrams - plotting, calculating phase equilibria properties\n",
    "\n",
    "examples from hackingmaterials.com and pymatgen.org"
   ]
  },
  {
   "cell_type": "code",
   "execution_count": null,
   "metadata": {
    "collapsed": false
   },
   "outputs": [],
   "source": [
    "%matplotlib inline\n",
    "\n",
    "from pymatgen import MPRester\n",
    "from pymatgen.entries.compatibility import MaterialsProjectCompatibility\n",
    "from pymatgen.phasediagram.analyzer import PDAnalyzer\n",
    "from pymatgen.phasediagram.maker import PhaseDiagram\n",
    "from pymatgen.phasediagram.plotter import PDPlotter"
   ]
  },
  {
   "cell_type": "code",
   "execution_count": null,
   "metadata": {
    "collapsed": true
   },
   "outputs": [],
   "source": [
    "system = [\"Fe\", \"P\"]"
   ]
  },
  {
   "cell_type": "code",
   "execution_count": null,
   "metadata": {
    "collapsed": true
   },
   "outputs": [],
   "source": [
    "mpr = MPRester() # object for connecting to MP REST interface"
   ]
  },
  {
   "cell_type": "markdown",
   "metadata": {},
   "source": [
    "Set energy corrections and +U/pseudopotential choice:"
   ]
  },
  {
   "cell_type": "code",
   "execution_count": null,
   "metadata": {
    "collapsed": true
   },
   "outputs": [],
   "source": [
    "compat = MaterialsProjectCompatibility()"
   ]
  },
  {
   "cell_type": "markdown",
   "metadata": {},
   "source": [
    "Create phase diagram by fetching unprocessed entries from MP,"
   ]
  },
  {
   "cell_type": "code",
   "execution_count": null,
   "metadata": {
    "collapsed": true
   },
   "outputs": [],
   "source": [
    "unprocessed_entries = mpr.get_entries_in_chemsys(system)"
   ]
  },
  {
   "cell_type": "markdown",
   "metadata": {},
   "source": [
    "filtering and adding energy corrections,"
   ]
  },
  {
   "cell_type": "code",
   "execution_count": null,
   "metadata": {
    "collapsed": true
   },
   "outputs": [],
   "source": [
    "processed_entries = compat.process_entries(unprocessed_entries)"
   ]
  },
  {
   "cell_type": "markdown",
   "metadata": {},
   "source": [
    "and, finally, instantiating a Phase Diagram object from thge processed entries:"
   ]
  },
  {
   "cell_type": "code",
   "execution_count": null,
   "metadata": {
    "collapsed": true
   },
   "outputs": [],
   "source": [
    "pd = PhaseDiagram(processed_entries)"
   ]
  },
  {
   "cell_type": "markdown",
   "metadata": {},
   "source": [
    "Let's plot the phase diagram."
   ]
  },
  {
   "cell_type": "code",
   "execution_count": null,
   "metadata": {
    "collapsed": false
   },
   "outputs": [],
   "source": [
    "plotter = PDPlotter(pd, show_unstable=0)\n",
    "plotter.show()"
   ]
  },
  {
   "cell_type": "code",
   "execution_count": null,
   "metadata": {
    "collapsed": false
   },
   "outputs": [],
   "source": [
    "plotter = PDPlotter(pd, show_unstable=0.100)\n",
    "plotter.show()"
   ]
  },
  {
   "cell_type": "markdown",
   "metadata": {},
   "source": [
    "Let's analyze the phase diagram to list stable and unstable entries."
   ]
  },
  {
   "cell_type": "code",
   "execution_count": null,
   "metadata": {
    "collapsed": true
   },
   "outputs": [],
   "source": [
    "pda = PDAnalyzer(pd)"
   ]
  },
  {
   "cell_type": "markdown",
   "metadata": {},
   "source": [
    "A table of stable entries:"
   ]
  },
  {
   "cell_type": "code",
   "execution_count": null,
   "metadata": {
    "collapsed": false
   },
   "outputs": [],
   "source": [
    "for e in pd.stable_entries:\n",
    "    print(\"{}\\t{}\".format(e.composition.reduced_formula, e.entry_id))"
   ]
  },
  {
   "cell_type": "markdown",
   "metadata": {},
   "source": [
    "Now, let's print a table of unstable entries, inlcuding their energy above hull and predicted decomposition. Since this is more involved display-wise, we'll use a handy and popular library for dealing with data frames and displaying them nicely inline."
   ]
  },
  {
   "cell_type": "code",
   "execution_count": null,
   "metadata": {
    "collapsed": true
   },
   "outputs": [],
   "source": [
    "from pandas import DataFrame"
   ]
  },
  {
   "cell_type": "code",
   "execution_count": null,
   "metadata": {
    "collapsed": false
   },
   "outputs": [],
   "source": [
    "import collections\n",
    "\n",
    "data = collections.defaultdict(list)\n",
    "for e in pd.unstable_entries:\n",
    "    decomp, ehull = pda.get_decomp_and_e_above_hull(e)\n",
    "    data[\"Materials ID\"].append(e.entry_id)\n",
    "    data[\"Composition\"].append(e.composition.reduced_formula)\n",
    "    data[\"Ehull\"].append(ehull)    \n",
    "    data[\"Decomposition\"].append(\n",
    "        \" + \".join([\"{:.2f} {} [{}]\".format(\n",
    "                    v, k.composition.reduced_formula, k.entry_id)\n",
    "                    for k, v in decomp.items()]))\n",
    "\n",
    "from pandas import DataFrame\n",
    "df = DataFrame(data, columns=[\n",
    "        \"Materials ID\", \"Composition\", \"Ehull\", \"Decomposition\"])\n",
    "\n",
    "df"
   ]
  },
  {
   "cell_type": "code",
   "execution_count": null,
   "metadata": {
    "collapsed": false
   },
   "outputs": [],
   "source": [
    "mpr.query('mp-27164', ['e_above_hull'])"
   ]
  },
  {
   "cell_type": "markdown",
   "metadata": {},
   "source": [
    "Let's examine another chemical system: C-Ca-O."
   ]
  },
  {
   "cell_type": "code",
   "execution_count": null,
   "metadata": {
    "collapsed": true
   },
   "outputs": [],
   "source": [
    "entries = a.get_entries_in_chemsys(['Ca', 'C', 'O'])\n",
    "pd = PhaseDiagram(compat.process_entries(entries))"
   ]
  },
  {
   "cell_type": "code",
   "execution_count": null,
   "metadata": {
    "collapsed": false
   },
   "outputs": [],
   "source": [
    "plotter = PDPlotter(pd, show_unstable=True)\n",
    "plotter.show()"
   ]
  },
  {
   "cell_type": "code",
   "execution_count": null,
   "metadata": {
    "collapsed": true
   },
   "outputs": [],
   "source": [
    "pda = PDAnalyzer(pd)"
   ]
  },
  {
   "cell_type": "markdown",
   "metadata": {},
   "source": [
    "And let's print out all entries now, stable and unstable."
   ]
  },
  {
   "cell_type": "code",
   "execution_count": null,
   "metadata": {
    "collapsed": false
   },
   "outputs": [],
   "source": [
    "import collections\n",
    "\n",
    "data = collections.defaultdict(list)\n",
    "for e in pd.all_entries:\n",
    "    decomp, ehull = pda.get_decomp_and_e_above_hull(e)\n",
    "    data[\"Materials ID\"].append(e.entry_id)\n",
    "    data[\"Composition\"].append(e.composition.reduced_formula)\n",
    "    data[\"Ehull\"].append(ehull)    \n",
    "    data[\"Decomposition\"].append(\n",
    "        \" + \".join([\"{:.2f} {} [{}]\".format(\n",
    "                    v, k.composition.reduced_formula, k.entry_id)\n",
    "                    for k, v in decomp.items()]))\n",
    "\n",
    "from pandas import DataFrame\n",
    "df = DataFrame(data, columns=[\n",
    "        \"Materials ID\", \"Composition\", \"Ehull\", \"Decomposition\"])\n",
    "\n",
    "df"
   ]
  },
  {
   "cell_type": "markdown",
   "metadata": {},
   "source": [
    "## Calculating reaction energies\n",
    "pymatgen.org example"
   ]
  },
  {
   "cell_type": "code",
   "execution_count": null,
   "metadata": {
    "collapsed": false
   },
   "outputs": [],
   "source": [
    "from pymatgen.matproj.rest import MPRester\n",
    "from pymatgen import Composition\n",
    "from pymatgen.entries.computed_entries import ComputedEntry\n",
    "from pymatgen.core.units import FloatWithUnit\n",
    "from pymatgen.analysis.reaction_calculator import ComputedReaction\n",
    "\n",
    "#This initializes the REST adaptor. Put your own API key in.\n",
    "a = MPRester()\n",
    "\n",
    "#This gets all entries belonging to the Ca-C-O system.\n",
    "all_entries = a.get_entries_in_chemsys(['Ca', 'C', 'O'])\n",
    "\n",
    "#This method simply gets the lowest energy entry\n",
    "#for all entries with the same composition.\n",
    "def get_most_stable_entry(formula):\n",
    "    relevant_entries = [\n",
    "        entry for entry in all_entries\n",
    "        if entry.composition.reduced_formula == Composition(formula).reduced_formula]\n",
    "    relevant_entries = sorted(relevant_entries, key=lambda e: e.energy_per_atom)\n",
    "    return relevant_entries[0]\n",
    "\n",
    "CaO = get_most_stable_entry(\"CaO\")\n",
    "CO2 = get_most_stable_entry(\"CO2\")\n",
    "CaCO3 = get_most_stable_entry(\"CaCO3\")\n",
    "\n",
    "reaction = ComputedReaction([CaO, CO2], [CaCO3])\n",
    "energy = FloatWithUnit(reaction.calculated_reaction_energy, \"eV atom^-1\")\n",
    "\n",
    "print \"Caculated\"\n",
    "print reaction\n",
    "print \"Reaction energy = {}\".format(energy.to(\"kJ mol^-1\"))\n",
    "print\n",
    "\n",
    "# The following portions demonstrate how to get the experimental values as well.\n",
    "exp_CaO = a.get_exp_entry(\"CaO\")\n",
    "exp_CaCO3 = a.get_exp_entry(\"CaCO3\")\n",
    "\n",
    "#Unfortunately, the Materials Project database does not have\n",
    "# gas phase experimental entries.\n",
    "# This is the value from NIST. We manually create the entry.\n",
    "#Exp entries should be in kJ/mol.\n",
    "exp_CO2 = ComputedEntry(\"CO2\", -393.51)\n",
    "\n",
    "exp_reaction = ComputedReaction([exp_CaO, exp_CO2], [exp_CaCO3])\n",
    "\n",
    "print \"Experimental\"\n",
    "print exp_reaction\n",
    "print \"Reaction energy = {} kJ mol^-1\".format(\n",
    "    exp_reaction.calculated_reaction_energy)"
   ]
  }
 ],
 "metadata": {
  "kernelspec": {
   "display_name": "Python 2",
   "language": "python",
   "name": "python2"
  },
  "language_info": {
   "codemirror_mode": {
    "name": "ipython",
    "version": 2
   },
   "file_extension": ".py",
   "mimetype": "text/x-python",
   "name": "python",
   "nbconvert_exporter": "python",
   "pygments_lexer": "ipython2",
   "version": "2.7.10"
  }
 },
 "nbformat": 4,
 "nbformat_minor": 0
}
